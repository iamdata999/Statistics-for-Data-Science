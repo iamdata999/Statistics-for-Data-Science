{
 "cells": [
  {
   "cell_type": "markdown",
   "id": "bb0ade75",
   "metadata": {},
   "source": [
    "# Assignment 2: Probability\n",
    "\n",
    "Task 1: Simulating Coin Flips\n",
    "Write a Python program that simulates flipping a fair coin 100 times. Calculate and print the probability of getting heads and tails.\n",
    "\n",
    "Task 2: Probability of Even Numbers\n",
    "Write a Python function that takes a list of numbers as input and returns the probability of selecting an even number from the list.\n",
    "\n",
    "Task 3: Divisibility by 7\n",
    "Create a Python program that generates a random number between 1 and 10,000. Calculate and print the probability of the number being divisible by 7.\n",
    "\n",
    "Task 4: Ball Selection\n",
    "Write a Python program that simulates randomly selecting a ball from a bag containing red, blue, and green balls. Calculate and print the probability of selecting a red ball.\n",
    "\n",
    "Task 5: First Axiom of Probability\n",
    "Write a Python program that demonstrates the first axiom of probability by calculating the probability of an event occurring between 0 and 1.\n",
    "\n",
    "In this assignment, you'll delve into the realm of probability through practical simulations and calculations. These tasks will help you grasp the fundamental concepts of probability and understand how to calculate and interpret probabilities of various events."
   ]
  },
  {
   "cell_type": "markdown",
   "id": "29daa176",
   "metadata": {},
   "source": [
    "Task 1: \n",
    "Write a Python program to simulate flipping a fair coin 100 times. Calculate and print the \n",
    "probability of getting heads and tails."
   ]
  },
  {
   "cell_type": "code",
   "execution_count": 1,
   "id": "ee226eb3",
   "metadata": {},
   "outputs": [
    {
     "name": "stdout",
     "output_type": "stream",
     "text": [
      "Number of Heads: 55\n",
      "Number of Tails: 45\n",
      "Probability of Heads: 0.55\n",
      "Probability of Tails: 0.45\n"
     ]
    }
   ],
   "source": [
    "#This program uses the random.choice() function to simulate 100 \n",
    "#coin flips, and then it calculates the number of heads and tails. Finally,\n",
    "#it calculates and prints the probabilities of getting heads and tails\n",
    "#based on the simulated coin flips.\n",
    "\n",
    "import random\n",
    "\n",
    "# Simulate flipping a fair coin 100 times\n",
    "coin_flips = [random.choice(['Heads', 'Tails']) for _ in range(100)]\n",
    "\n",
    "# Calculate the number of heads and tails\n",
    "num_heads = coin_flips.count('Heads')\n",
    "num_tails = coin_flips.count('Tails')\n",
    "\n",
    "# Calculate the probabilities\n",
    "probability_heads = num_heads / 100\n",
    "probability_tails = num_tails / 100\n",
    "\n",
    "# Print the results\n",
    "print(f\"Number of Heads: {num_heads}\")\n",
    "print(f\"Number of Tails: {num_tails}\")\n",
    "print(f\"Probability of Heads: {probability_heads:.2f}\")\n",
    "print(f\"Probability of Tails: {probability_tails:.2f}\")\n"
   ]
  },
  {
   "cell_type": "markdown",
   "id": "1ab0d5e8",
   "metadata": {},
   "source": [
    "Number of Heads: 55\n",
    "\n",
    "The coin landed on 'Heads' 55 times out of 100 flips.\n",
    "Number of Tails: 45\n",
    "\n",
    "The coin landed on 'Tails' 45 times out of 100 flips.\n",
    "Probability of Heads: 0.55\n",
    "\n",
    "There's a 55% chance of getting 'Heads' when flipping the coin.\n",
    "Probability of Tails: 0.45\n",
    "\n",
    "There's a 45% chance of getting 'Tails' when flipping the coin.\n",
    "In short, the coin flip simulation showed that 'Heads' occurred more often, with a probability of around 55%, while 'Tails' occurred with a probability of about 45%."
   ]
  },
  {
   "cell_type": "markdown",
   "id": "61a910ee",
   "metadata": {},
   "source": [
    "Task 2: \n",
    "Write a Python function that takes a list of numbers as input and returns the probability of \n",
    "selecting an even number from the list."
   ]
  },
  {
   "cell_type": "code",
   "execution_count": 2,
   "id": "28d42308",
   "metadata": {},
   "outputs": [
    {
     "name": "stdout",
     "output_type": "stream",
     "text": [
      "0.5\n"
     ]
    }
   ],
   "source": [
    "#In this code snippet, you have a list of numbers from 1 to 10. You count \n",
    "#the number of even numbers (those divisible by 2) using a generator\n",
    "#expression with sum. Then, you calculate the probability of selecting \n",
    "#an even number by dividing the count of even numbers by the total\n",
    "#number of numbers in the list. Finally, you print the calculated probability.\n",
    "\n",
    "# List of numbers\n",
    "numbers = [1, 2, 3, 4, 5, 6, 7, 8, 9, 10]\n",
    "\n",
    "# Count the number of even numbers\n",
    "even_count = sum(1 for i in numbers if i % 2 == 0)\n",
    "\n",
    "# Calculate the probability of selecting an even number\n",
    "# Probability = Count of Even Numbers / Total Number of Numbers\n",
    "prob_even = even_count / len(numbers)\n",
    "\n",
    "# Print the calculated probability\n",
    "print(prob_even)\n",
    "\n"
   ]
  },
  {
   "cell_type": "markdown",
   "id": "2ffbd841",
   "metadata": {},
   "source": [
    "The result 0.5 represents the probability of selecting an even number from the list of numbers provided. In other words, there is a 50% chance of choosing a number that is divisible by 2 from the list. This probability is obtained by dividing the count of even numbers (5 even numbers) by the total number of numbers in the list (10 numbers)."
   ]
  },
  {
   "cell_type": "markdown",
   "id": "2fa5edb3",
   "metadata": {},
   "source": [
    "Task 3: \n",
    "Create a Python program that generates a random number between 1 and 10,000. Calculate \n",
    "and print the probability of the number being divisible by 7."
   ]
  },
  {
   "cell_type": "code",
   "execution_count": 3,
   "id": "50d8bb8d",
   "metadata": {},
   "outputs": [
    {
     "name": "stdout",
     "output_type": "stream",
     "text": [
      "8264 0.14285714285714285\n"
     ]
    }
   ],
   "source": [
    "#generate a random number and calculate the probability of that number\n",
    "#being divisible by 7. The probability is set to 1/7, which is approximately 0.142857.\n",
    "#The random number and the calculated probability are then printed.\n",
    "#The comment at the end clarifies that the calculated probability represents about 14.2%.\n",
    "\n",
    "\n",
    "\n",
    "# Generate a random number between 1 and 10,000\n",
    "random_num = random.randint(1, 10000)\n",
    "\n",
    "# Calculate the probability of the number being divisible by 7\n",
    "prob_1 = 1 / 7\n",
    "\n",
    "# Print the random number and the calculated probability\n",
    "print(random_num, prob_1)"
   ]
  },
  {
   "cell_type": "markdown",
   "id": "4bef9a42",
   "metadata": {},
   "source": [
    "The number 3088 is a random number that was generated from the range 1 to 10,000. The value 0.14285714285714285 represents the probability that this randomly chosen number is divisible by 7. In simpler terms, there's roughly a 14.29% chance that a random number between 1 and 10,000 will be evenly divisible by 7."
   ]
  },
  {
   "cell_type": "markdown",
   "id": "dc0d17c0",
   "metadata": {},
   "source": [
    "Task 4: \n",
    "Write a Python program that simulates randomly selecting a ball from a bag containing red, \n",
    "blue, and green balls. Calculate and print the probability of selecting a red ball."
   ]
  },
  {
   "cell_type": "code",
   "execution_count": 4,
   "id": "677686a9",
   "metadata": {},
   "outputs": [
    {
     "name": "stdout",
     "output_type": "stream",
     "text": [
      "0.3333333333333333\n"
     ]
    }
   ],
   "source": [
    "#randomly select a color from the list using random.choice(). Then,\n",
    "#calculate the probability of selecting a red ball by dividing the count\n",
    "#of red balls by the total number of balls.\n",
    "\n",
    "#the variable name colors is used consistently throughout the code,\n",
    "#ensuring that the list of colors is properly referenced when calculating\n",
    "#the probability of selecting a red ball.\n",
    "\n",
    "# List of ball colors in the bag\n",
    "colors = ['red', 'blue', 'green', 'red', 'blue', 'green']\n",
    "\n",
    "# Simulate randomly selecting a color from the list\n",
    "selected_color = random.choice(colors)\n",
    "\n",
    "# Calculate the probability of selecting a red ball\n",
    "prob_red = colors.count('red') / len(colors)\n",
    "\n",
    "# Print the calculated probability (expected result: 0.5)\n",
    "print(prob_red)\n"
   ]
  },
  {
   "cell_type": "markdown",
   "id": "ebe79221",
   "metadata": {},
   "source": [
    "The result 0.3333333333333333 represents the probability of selecting a red ball from the list of colors. In other words, there's roughly a 33.33% chance of randomly choosing a red ball from the list. This probability is calculated by dividing the count of red balls (2 red balls) by the total number of balls in the list (6 balls)."
   ]
  },
  {
   "cell_type": "markdown",
   "id": "5cc309cd",
   "metadata": {},
   "source": [
    "Task 5: \n",
    "Write a Python program that demonstrates the first axiom of probability by calculating the \n",
    "probability of an event occurring between 0 and 1"
   ]
  },
  {
   "cell_type": "code",
   "execution_count": 5,
   "id": "98c1d631",
   "metadata": {},
   "outputs": [
    {
     "name": "stdout",
     "output_type": "stream",
     "text": [
      "The generated probability 0.5591155852799045 satisfies the first axiom of probability.\n"
     ]
    }
   ],
   "source": [
    "#use random.uniform(0, 1) to generate a random probability value between 0 and 1. \n",
    "#Then, you check if the generated probability value\n",
    "#falls within the range of 0 to 1 using an if statement.\n",
    "\n",
    "\n",
    "\n",
    "# Generate a random probability between 0 and 1\n",
    "probability = random.uniform(0, 1)\n",
    "\n",
    "# Check if the generated probability is between 0 and 1\n",
    "if 0 <= probability <= 1:\n",
    "    print(f\"The generated probability {probability} satisfies the first axiom of probability.\")\n",
    "else:\n",
    "    print(f\"The generated probability {probability} does not satisfy the first axiom of probability.\")\n",
    "\n"
   ]
  },
  {
   "cell_type": "markdown",
   "id": "b4f621d6",
   "metadata": {},
   "source": [
    "The statement \"The generated probability 0.5591155852799045 satisfies the first axiom of probability\" means that the randomly generated probability value (0.5591155852799045) falls within the valid range of probabilities between 0 and 1. In other words, the generated probability is a non-negative value less than or equal to 1, which aligns with the first axiom of probability."
   ]
  },
  {
   "cell_type": "code",
   "execution_count": null,
   "id": "e27934fe",
   "metadata": {},
   "outputs": [],
   "source": []
  }
 ],
 "metadata": {
  "kernelspec": {
   "display_name": "Python 3 (ipykernel)",
   "language": "python",
   "name": "python3"
  },
  "language_info": {
   "codemirror_mode": {
    "name": "ipython",
    "version": 3
   },
   "file_extension": ".py",
   "mimetype": "text/x-python",
   "name": "python",
   "nbconvert_exporter": "python",
   "pygments_lexer": "ipython3",
   "version": "3.10.9"
  }
 },
 "nbformat": 4,
 "nbformat_minor": 5
}
